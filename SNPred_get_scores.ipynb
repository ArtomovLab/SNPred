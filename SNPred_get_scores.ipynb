{
 "cells": [
  {
   "cell_type": "code",
   "execution_count": 1,
   "id": "2844dc8a",
   "metadata": {},
   "outputs": [],
   "source": [
    "import pandas as pd\n",
    "import numpy as np\n",
    "\n",
    "import myvariant\n",
    "mv = myvariant.MyVariantInfo()\n",
    "\n",
    "from catboost import CatBoostClassifier"
   ]
  },
  {
   "cell_type": "markdown",
   "id": "3bcf1e86",
   "metadata": {},
   "source": [
    "# Load model"
   ]
  },
  {
   "cell_type": "code",
   "execution_count": 2,
   "id": "3ab074b9",
   "metadata": {},
   "outputs": [
    {
     "data": {
      "text/plain": [
       "<catboost.core.CatBoostClassifier at 0x14e679d4250>"
      ]
     },
     "execution_count": 2,
     "metadata": {},
     "output_type": "execute_result"
    }
   ],
   "source": [
    "SNPred = CatBoostClassifier()      # parameters not required.\n",
    "SNPred.load_model('Model/SNPred_model')"
   ]
  },
  {
   "cell_type": "markdown",
   "id": "b67e002c",
   "metadata": {},
   "source": [
    "# Functions to fetch features from dbNSFP"
   ]
  },
  {
   "cell_type": "code",
   "execution_count": 3,
   "id": "edf0870c",
   "metadata": {},
   "outputs": [],
   "source": [
    "allele_frequencies = [  \n",
    "    ['gnomad_exome', 'af', 'af'],\n",
    "    ['gnomad_exome', 'af', 'af_afr'],\n",
    "    ['gnomad_exome', 'af', 'af_amr'],\n",
    "    ['gnomad_exome', 'af', 'af_asj'],\n",
    "    ['gnomad_exome', 'af', 'af_eas'],\n",
    "    ['gnomad_exome', 'af', 'af_fin'],\n",
    "    ['gnomad_exome', 'af', 'af_nfe'],\n",
    "    ['gnomad_exome', 'af', 'af_oth'],\n",
    "    ['gnomad_exome', 'af', 'af_sas'],\n",
    "    \n",
    "    ['gnomad_genome', 'af', 'af'],\n",
    "    ['gnomad_genome', 'af', 'af_afr'],\n",
    "    ['gnomad_genome', 'af', 'af_amr'],\n",
    "    ['gnomad_genome', 'af', 'af_asj'],\n",
    "    ['gnomad_genome', 'af', 'af_eas'],\n",
    "    ['gnomad_genome', 'af', 'af_fin'],\n",
    "    ['gnomad_genome', 'af', 'af_nfe'],\n",
    "    ['gnomad_genome', 'af', 'af_oth'],\n",
    "    ['gnomad_genome', 'af', 'af_sas'],\n",
    "    \n",
    "#    ['dbsnp', 'alleles'],\n",
    "\n",
    "    ['dbnsfp', 'exac', 'adj_af'],\n",
    "    ['dbnsfp', 'exac', 'af'],\n",
    "    ['dbnsfp', 'exac', 'afr_af'],\n",
    "    ['dbnsfp', 'exac', 'amr_af'],\n",
    "    ['dbnsfp', 'exac', 'eas_af'],\n",
    "    ['dbnsfp', 'exac', 'fin_af'],\n",
    "    ['dbnsfp', 'exac', 'nfe_af'],\n",
    "    ['dbnsfp', 'exac', 'sas_af'],\n",
    "    \n",
    "    ['dbnsfp', 'exac_nontcga', 'adj_af'],\n",
    "    ['dbnsfp', 'exac_nontcga', 'af'],\n",
    "    ['dbnsfp', 'exac_nontcga', 'afr_af'],\n",
    "    ['dbnsfp', 'exac_nontcga', 'amr_af'],\n",
    "    ['dbnsfp', 'exac_nontcga', 'eas_af'],\n",
    "    ['dbnsfp', 'exac_nontcga', 'fin_af'],\n",
    "    ['dbnsfp', 'exac_nontcga', 'nfe_af'],\n",
    "    ['dbnsfp', 'exac_nontcga', 'sas_af'],\n",
    "    \n",
    "    ['dbnsfp', 'exac_nonpsych', 'adj_af'],\n",
    "    ['dbnsfp', 'exac_nonpsych', 'af'],\n",
    "    ['dbnsfp', 'exac_nonpsych', 'afr_af'],\n",
    "    ['dbnsfp', 'exac_nonpsych', 'amr_af'],\n",
    "    ['dbnsfp', 'exac_nonpsych', 'eas_af'],\n",
    "    ['dbnsfp', 'exac_nonpsych', 'fin_af'],\n",
    "    ['dbnsfp', 'exac_nonpsych', 'nfe_af'],\n",
    "    ['dbnsfp', 'exac_nonpsych', 'sas_af'],\n",
    "]\n",
    "\n",
    "pathogenicity_scores = [\n",
    "    ['dbnsfp', 'bayesdel', 'add_af', 'rankscore'],\n",
    "    ['dbnsfp', 'bstatistic', 'rankscore'],\n",
    "    ['dbnsfp', 'clinpred', 'rankscore'],\n",
    "    ['dbnsfp', 'cadd', 'phred'],\n",
    "    ['dbnsfp', 'cadd', 'raw_rankscore'],\n",
    "    ['dbnsfp', 'dann', 'rankscore'],\n",
    "    ['dbnsfp', 'deogen2', 'rankscore'],\n",
    "    ['dbnsfp', 'eigen', 'raw_coding_rankscore'],\n",
    "    ['dbnsfp', 'eigen-pc', 'raw_rankscore'],\n",
    "    ['dbnsfp', 'fathmm','rankscore'],\n",
    "    ['dbnsfp', 'fathmm-mkl', 'coding_rankscore'],\n",
    "    ['dbnsfp', 'fathmm-xf', 'coding_rankscore'],\n",
    "    ['dbnsfp', 'genocanyon', 'rankscore'],\n",
    "    ['dbnsfp', 'gerp++', 'rs_rankscore'],\n",
    "    ['dbnsfp', 'gm12878', 'fitcons_rankscore'],\n",
    "    ['dbnsfp', 'h1-hesc', 'fitcons_rankscore'],\n",
    "    ['dbnsfp', 'huvec', 'fitcons_rankscore'],\n",
    "    ['dbnsfp', 'integrated', 'fitcons_rankscore'],\n",
    "    ['dbnsfp', 'linsight', 'rankscore'],\n",
    "    ['dbnsfp', 'list-s2', 'rankscore'],\n",
    "    ['dbnsfp', 'lrt', 'converted_rankscore'],\n",
    "    ['dbnsfp', 'm-cap', 'rankscore'],\n",
    "    ['dbnsfp', 'metalr', 'rankscore'],\n",
    "    ['dbnsfp', 'metarnn','rankscore'],\n",
    "    ['dbnsfp', 'metasvm', 'rankscore'],\n",
    "    ['dbnsfp', 'mpc', 'rankscore'],\n",
    "    ['dbnsfp', 'mutationassessor', 'rankscore'],\n",
    "    ['dbnsfp', 'mutationtaster', 'converted_rankscore'],\n",
    "    ['dbnsfp', 'mutpred', 'rankscore'],\n",
    "    ['dbnsfp', 'mvp', 'rankscore'],\n",
    "    ['dbnsfp', 'phastcons', '100way_vertebrate', 'rankscore'],\n",
    "    ['dbnsfp', 'phastcons', '17way_primate', 'rankscore'],\n",
    "    ['dbnsfp', 'phastcons', '30way_mammalian', 'rankscore'],\n",
    "    ['dbnsfp', 'phylop', '100way_vertebrate', 'rankscore'],\n",
    "    ['dbnsfp', 'phylop', '17way_primate', 'rankscore'],\n",
    "    ['dbnsfp', 'phylop', '30way_mammalian', 'rankscore'],\n",
    "    ['dbnsfp', 'polyphen2', 'hdiv', 'rankscore'],\n",
    "    ['dbnsfp', 'polyphen2', 'hvar', 'rankscore'],\n",
    "    ['dbnsfp', 'primateai', 'rankscore'],\n",
    "    ['dbnsfp', 'provean', 'rankscore'],\n",
    "    ['dbnsfp', 'revel', 'rankscore'],\n",
    "    ['dbnsfp', 'sift', 'converted_rankscore'],\n",
    "    ['dbnsfp', 'sift4g', 'converted_rankscore'],\n",
    "    ['dbnsfp', 'siphy_29way', 'logodds_rankscore'],\n",
    "    ['dbnsfp', 'vest4', 'rankscore'],    \n",
    "]"
   ]
  },
  {
   "cell_type": "code",
   "execution_count": 4,
   "id": "1d893760",
   "metadata": {},
   "outputs": [],
   "source": [
    "def recursive_dict(main_dict, d, pref):\n",
    "    if not isinstance(d, dict):\n",
    "        main_dict.update({pref: d})\n",
    "        return\n",
    "    \n",
    "    for k in d:\n",
    "        recursive_dict(main_dict, d[k], f'{pref}.{k}')"
   ]
  },
  {
   "cell_type": "code",
   "execution_count": 5,
   "id": "b74da2b0",
   "metadata": {},
   "outputs": [],
   "source": [
    "def get_scores_and_af(variants, genome_assembly):\n",
    "    res = mv.getvariants(variants, assembly=genome_assembly, \n",
    "                         fields=['.'.join(name) for name in pathogenicity_scores + allele_frequencies])\n",
    "    scores_records = []\n",
    "    for q in res:\n",
    "        tmp = {}\n",
    "        recursive_dict(tmp, q, '')\n",
    "        scores_records.append(tmp)\n",
    "\n",
    "\n",
    "    scores = pd.DataFrame(scores_records)\n",
    "    scores = (\n",
    "        scores\n",
    "            .drop(columns=['._id', '._version', '.dbnsfp._license', '.dbsnp._license', \n",
    "                           '.gnomad_exome._license', '.gnomad_genome._license', '.notfound'], errors='ignore')\n",
    "            .rename(columns={'.query': 'variant'})\n",
    "            .set_index('variant')\n",
    "            .fillna({'.'+'.'.join(af):0 for af in allele_frequencies})\n",
    "            .rename(columns = lambda col: '.'.join(col.split('.')[2:]) if col.startswith('.dbnsfp') else col)\n",
    "    )\n",
    "    scores = scores.dropna(subset=list(set(['.'.join(name[1:]) for name in pathogenicity_scores]) & \n",
    "                                       set(scores.columns)), how='all')\n",
    "\n",
    "    return scores"
   ]
  },
  {
   "cell_type": "markdown",
   "id": "5a2ce307",
   "metadata": {},
   "source": [
    "# Example: get SNPred scores for a list of variants"
   ]
  },
  {
   "cell_type": "markdown",
   "id": "c22a9138",
   "metadata": {},
   "source": [
    "We have a list of 10 variants in hg38 format"
   ]
  },
  {
   "cell_type": "code",
   "execution_count": 6,
   "id": "cf9025fd",
   "metadata": {},
   "outputs": [],
   "source": [
    "assembly = 'hg38'\n",
    "variants = [\n",
    "    'chr18:g.31592974G>A', 'chr10:g.116553824T>C', 'chr16:g.17198347G>A',\n",
    "    'chr6:g.33435225G>C', 'chr1:g.55063411A>C', 'chr11:g.74138729G>C',\n",
    "    'chr2:g.151658006C>A', 'chr21:g.46216393C>G', 'chr3:g.48575355C>T',\n",
    "    'chr8:g.47944003T>C'\n",
    "]"
   ]
  },
  {
   "cell_type": "markdown",
   "id": "3840785a",
   "metadata": {},
   "source": [
    "Fetch features for SNPred using dbNSFP via ```myvariant``` library. Fill in features without values with ```np.nan```"
   ]
  },
  {
   "cell_type": "code",
   "execution_count": 8,
   "id": "6b7f8bad",
   "metadata": {},
   "outputs": [
    {
     "name": "stdout",
     "output_type": "stream",
     "text": [
      "querying 1-10...done.\n",
      "fetched info on 10 variants\n"
     ]
    }
   ],
   "source": [
    "scores = get_scores_and_af(variants, assembly)\n",
    "\n",
    "for col in set(SNPred.feature_names_) - set(scores.columns):\n",
    "    scores.loc[:,col] = np.nan\n",
    "scores = scores[SNPred.feature_names_]\n",
    "print(f'fetched info on {len(scores)} variants')"
   ]
  },
  {
   "cell_type": "markdown",
   "id": "fc74fa42",
   "metadata": {},
   "source": [
    "Calculate SNPred scores for the list of variants"
   ]
  },
  {
   "cell_type": "code",
   "execution_count": 7,
   "id": "154c4e95",
   "metadata": {},
   "outputs": [
    {
     "name": "stdout",
     "output_type": "stream",
     "text": [
      "querying 1-10...done.\n",
      "fetched info on 10 variants\n"
     ]
    },
    {
     "data": {
      "text/html": [
       "<div>\n",
       "<style scoped>\n",
       "    .dataframe tbody tr th:only-of-type {\n",
       "        vertical-align: middle;\n",
       "    }\n",
       "\n",
       "    .dataframe tbody tr th {\n",
       "        vertical-align: top;\n",
       "    }\n",
       "\n",
       "    .dataframe thead th {\n",
       "        text-align: right;\n",
       "    }\n",
       "</style>\n",
       "<table border=\"1\" class=\"dataframe\">\n",
       "  <thead>\n",
       "    <tr style=\"text-align: right;\">\n",
       "      <th></th>\n",
       "      <th>SNPred_score</th>\n",
       "    </tr>\n",
       "    <tr>\n",
       "      <th>variant</th>\n",
       "      <th></th>\n",
       "    </tr>\n",
       "  </thead>\n",
       "  <tbody>\n",
       "    <tr>\n",
       "      <th>chr18:g.31592974G&gt;A</th>\n",
       "      <td>0.930723</td>\n",
       "    </tr>\n",
       "    <tr>\n",
       "      <th>chr10:g.116553824T&gt;C</th>\n",
       "      <td>0.004624</td>\n",
       "    </tr>\n",
       "    <tr>\n",
       "      <th>chr16:g.17198347G&gt;A</th>\n",
       "      <td>0.001903</td>\n",
       "    </tr>\n",
       "    <tr>\n",
       "      <th>chr6:g.33435225G&gt;C</th>\n",
       "      <td>0.840257</td>\n",
       "    </tr>\n",
       "    <tr>\n",
       "      <th>chr1:g.55063411A&gt;C</th>\n",
       "      <td>0.313146</td>\n",
       "    </tr>\n",
       "    <tr>\n",
       "      <th>chr11:g.74138729G&gt;C</th>\n",
       "      <td>0.000453</td>\n",
       "    </tr>\n",
       "    <tr>\n",
       "      <th>chr2:g.151658006C&gt;A</th>\n",
       "      <td>0.225584</td>\n",
       "    </tr>\n",
       "    <tr>\n",
       "      <th>chr21:g.46216393C&gt;G</th>\n",
       "      <td>0.995936</td>\n",
       "    </tr>\n",
       "    <tr>\n",
       "      <th>chr3:g.48575355C&gt;T</th>\n",
       "      <td>0.998552</td>\n",
       "    </tr>\n",
       "    <tr>\n",
       "      <th>chr8:g.47944003T&gt;C</th>\n",
       "      <td>0.068579</td>\n",
       "    </tr>\n",
       "  </tbody>\n",
       "</table>\n",
       "</div>"
      ],
      "text/plain": [
       "                      SNPred_score\n",
       "variant                           \n",
       "chr18:g.31592974G>A       0.930723\n",
       "chr10:g.116553824T>C      0.004624\n",
       "chr16:g.17198347G>A       0.001903\n",
       "chr6:g.33435225G>C        0.840257\n",
       "chr1:g.55063411A>C        0.313146\n",
       "chr11:g.74138729G>C       0.000453\n",
       "chr2:g.151658006C>A       0.225584\n",
       "chr21:g.46216393C>G       0.995936\n",
       "chr3:g.48575355C>T        0.998552\n",
       "chr8:g.47944003T>C        0.068579"
      ]
     },
     "execution_count": 7,
     "metadata": {},
     "output_type": "execute_result"
    }
   ],
   "source": [
    "y_pred = SNPred.predict_proba(scores)[:,1]\n",
    "predictions = pd.DataFrame({'SNPred_score': y_pred}, index=scores.index)\n",
    "\n",
    "predictions"
   ]
  }
 ],
 "metadata": {
  "kernelspec": {
   "display_name": "Python 3",
   "language": "python",
   "name": "python3"
  },
  "language_info": {
   "codemirror_mode": {
    "name": "ipython",
    "version": 3
   },
   "file_extension": ".py",
   "mimetype": "text/x-python",
   "name": "python",
   "nbconvert_exporter": "python",
   "pygments_lexer": "ipython3",
   "version": "3.9.0"
  }
 },
 "nbformat": 4,
 "nbformat_minor": 5
}
